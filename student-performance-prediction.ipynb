{
 "cells": [
  {
   "cell_type": "code",
   "execution_count": 1,
   "id": "cf13af17",
   "metadata": {},
   "outputs": [
    {
     "ename": "ModuleNotFoundError",
     "evalue": "No module named 'google'",
     "output_type": "error",
     "traceback": [
      "\u001b[31m---------------------------------------------------------------------------\u001b[39m",
      "\u001b[31mModuleNotFoundError\u001b[39m                       Traceback (most recent call last)",
      "\u001b[36mCell\u001b[39m\u001b[36m \u001b[39m\u001b[32mIn[1]\u001b[39m\u001b[32m, line 2\u001b[39m\n\u001b[32m      1\u001b[39m \u001b[38;5;66;03m# Jalankan kode berikut di sel pertama untuk mengunggah file:\u001b[39;00m\n\u001b[32m----> \u001b[39m\u001b[32m2\u001b[39m \u001b[38;5;28;01mfrom\u001b[39;00m\u001b[38;5;250m \u001b[39m\u001b[34;01mgoogle\u001b[39;00m\u001b[34;01m.\u001b[39;00m\u001b[34;01mcolab\u001b[39;00m\u001b[38;5;250m \u001b[39m\u001b[38;5;28;01mimport\u001b[39;00m files\n\u001b[32m      3\u001b[39m uploaded = files.upload()\n",
      "\u001b[31mModuleNotFoundError\u001b[39m: No module named 'google'"
     ]
    }
   ],
   "source": [
    "# Jalankan kode berikut di sel pertama untuk mengunggah file:\n",
    "from google.colab import files\n",
    "uploaded = files.upload()"
   ]
  },
  {
   "cell_type": "code",
   "execution_count": null,
   "id": "3e6f1b43",
   "metadata": {},
   "outputs": [],
   "source": [
    "# Setelah berhasil diunggah, lanjutkan membaca file:\n",
    "import pandas as pd\n",
    "\n",
    "data = pd.read_csv('student-mat.csv', sep=';')\n",
    "data.head()"
   ]
  },
  {
   "cell_type": "code",
   "execution_count": null,
   "id": "4ce14c2d",
   "metadata": {},
   "outputs": [],
   "source": [
    "# Lihat Sekilas Data Tujuannya: Mengetahui tipe data, apakah ada missing value, dan memahami struktur dataset.\n",
    "\n",
    "data.info()\n",
    "data.describe()\n",
    "data.head\n",
    "()"
   ]
  },
  {
   "cell_type": "code",
   "execution_count": null,
   "id": "6a0983c1",
   "metadata": {},
   "outputs": [],
   "source": [
    "# Preprocessing Data\n",
    "# arget prediksi: G3\n",
    "\n",
    "#haptus fitur G1 dan G2 jika ingin memprediksi nilai akhir tanpa tergantung nilai sebelumnya (opsional) # type: ignore.\n",
    "\n",
    "#one-hot encoding untuk kolom kategorik.\n",
    "\n",
    "# Target\n",
    "y = data['G3']\n",
    "\n",
    "# Fitur: hapus G3\n",
    "X = data.drop('G3', axis=1)\n",
    "\n",
    "# One-hot encoding\n",
    "X_encoded = pd.get_dummies(X, drop_firs\n",
    "t=True)"
   ]
  },
  {
   "cell_type": "code",
   "execution_count": null,
   "id": "fc0b0b67",
   "metadata": {},
   "outputs": [],
   "source": [
    "# sprlit dat\n",
    "from sklearn.model_selection import train_test_split\n",
    "\n",
    "X_train, X_test, y_train, y_test = train_test_split(X_encoded, y, test_size=0.2, random_state=42)\n"
   ]
  },
  {
   "cell_type": "code",
   "execution_count": null,
   "id": "9a93515b",
   "metadata": {},
   "outputs": [],
   "source": [
    "\n",
    "from sklearn.linear_model import LinearRegression\n",
    "\n",
    "model = LinearRegression()\n",
    "model.fit(X_train, y_train)\n",
    "y_pred = model.predict(X_test)\n"
   ]
  },
  {
   "cell_type": "code",
   "execution_count": null,
   "id": "82160e2e",
   "metadata": {},
   "outputs": [],
   "source": [
    "from sklearn.metrics import mean_absolute_error, mean_squared_error, r2_score\n",
    "import numpy as np\n",
    "\n",
    "mae = mean_absolute_error(y_test, y_pred)\n",
    "mse = mean_squared_error(y_test, y_pred)\n",
    "rmse = np.sqrt(mse)\n",
    "r2 = r2_score(y_test, y_pred)\n",
    "\n",
    "print(f\"Mean Absolute Error (MAE): {mae:.2f}\")\n",
    "print(f\"Mean Squared Error (MSE): {mse:.2f}\")\n",
    "print(f\"Root Mean Squared Error (RMSE): {rmse:.2f}\")\n",
    "print(f\"R2 Score: {r2:.2f}\")\n"
   ]
  },
  {
   "cell_type": "code",
   "execution_count": null,
   "id": "d1c890b2",
   "metadata": {},
   "outputs": [],
   "source": [
    "import matplotlib.pyplot as plt\n",
    "\n",
    "plt.figure(figsize=(6, 6))\n",
    "plt.scatter(y_test, y_pred, alpha=0.5, color='blue')\n",
    "plt.plot([0, 20], [0, 20], '--', color='red')  # garis ideal prediksi sempurna\n",
    "plt.xlabel('Actual G3')\n",
    "plt.ylabel('Predicted G3')\n",
    "plt.title('Actual vs Predicted G3')\n",
    "plt.grid(True)\n",
    "plt.show()\n"
   ]
  }
 ],
 "metadata": {
  "kernelspec": {
   "display_name": "Python 3",
   "language": "python",
   "name": "python3"
  },
  "language_info": {
   "codemirror_mode": {
    "name": "ipython",
    "version": 3
   },
   "file_extension": ".py",
   "mimetype": "text/x-python",
   "name": "python",
   "nbconvert_exporter": "python",
   "pygments_lexer": "ipython3",
   "version": "3.12.1"
  }
 },
 "nbformat": 4,
 "nbformat_minor": 5
}
